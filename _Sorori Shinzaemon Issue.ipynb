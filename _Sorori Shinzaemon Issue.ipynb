{
 "cells": [
  {
   "cell_type": "markdown",
   "id": "82b26076",
   "metadata": {},
   "source": [
    "# PROBLEM 1"
   ]
  },
  {
   "cell_type": "code",
   "execution_count": 7,
   "id": "6fb9d480",
   "metadata": {},
   "outputs": [],
   "source": [
    "Grain = 1\n",
    "list_of_grain_per_day = []\n",
    "for day in range(100):\n",
    "    if day == 0:\n",
    "        list_of_grain_per_day.append(Grain)\n",
    "    else:\n",
    "        list_of_grain_per_day.append((Grain*2)**day)"
   ]
  },
  {
   "cell_type": "code",
   "execution_count": 8,
   "id": "9fd1789b",
   "metadata": {},
   "outputs": [
    {
     "name": "stdout",
     "output_type": "stream",
     "text": [
      "The total rice grains after 100 days:  1267650600228229401496703205375\n"
     ]
    }
   ],
   "source": [
    "print('The total rice grains after 100 days: ', sum(list_of_grain_per_day))"
   ]
  },
  {
   "cell_type": "code",
   "execution_count": 11,
   "id": "28b3ecfe",
   "metadata": {},
   "outputs": [
    {
     "data": {
      "image/png": "[encoded data removed]",
      "text/plain": [
       "<Figure size 640x480 with 1 Axes>"
      ]
     },
     "metadata": {},
     "output_type": "display_data"
    }
   ],
   "source": [
    "import matplotlib.pyplot as plt\n",
    "%matplotlib inline\n",
    "\n",
    "plt.title(\"Number of grains of rice on the 100th day\")\n",
    "plt.xlabel(\"number of days\")\n",
    "plt.ylabel(\"number of rice\")\n",
    "plt.plot(list_of_grain_per_day)  \n",
    "plt.show()"
   ]
  },
  {
   "cell_type": "markdown",
   "id": "9f31aca2",
   "metadata": {},
   "source": [
    "# PROBLEM 2"
   ]
  },
  {
   "cell_type": "code",
   "execution_count": 18,
   "id": "c211e70c",
   "metadata": {},
   "outputs": [],
   "source": [
    "def compute_grains_per_day(days=100):\n",
    "    Grain = 1\n",
    "    list_of_grain_per_day = []\n",
    "    for day in range(days):\n",
    "        if day == 0:\n",
    "            list_of_grain_per_day.append(Grain)\n",
    "        else:\n",
    "            list_of_grain_per_day.append((Grain*2)**day)\n",
    "        print('The total rice grains after ', sum(list_of_grain_per_day))\n",
    "    "
   ]
  },
  {
   "cell_type": "code",
   "execution_count": 17,
   "id": "3ed22f0f",
   "metadata": {},
   "outputs": [
    {
     "name": "stdout",
     "output_type": "stream",
     "text": [
      "The toal rice grains after  1\n",
      "The toal rice grains after  3\n",
      "The toal rice grains after  7\n",
      "The toal rice grains after  15\n",
      "The toal rice grains after  31\n",
      "The toal rice grains after  63\n",
      "The toal rice grains after  127\n",
      "The toal rice grains after  255\n",
      "The toal rice grains after  511\n",
      "The toal rice grains after  1023\n"
     ]
    }
   ],
   "source": [
    "compute_grains_per_day(10)"
   ]
  },
  {
   "cell_type": "markdown",
   "id": "da101fc8",
   "metadata": {},
   "source": [
    "# PROBLEM 3"
   ]
  },
  {
   "cell_type": "code",
   "execution_count": 43,
   "id": "ed1318bc",
   "metadata": {},
   "outputs": [],
   "source": [
    "grains_in_a_bowl = 10000\n",
    "list_of_grain_per_day = grains_in_a_bowl*2\n",
    "\n",
    "def compute_how_many_days(people, grains):\n",
    "    total_grains_per_day = people*list_of_grain_per_day\n",
    "    days = grains/total_grains_per_day\n",
    "    print('can eat grains in ', days)\n",
    "    \n",
    "    \n"
   ]
  },
  {
   "cell_type": "code",
   "execution_count": 47,
   "id": "81dc1411",
   "metadata": {},
   "outputs": [
    {
     "name": "stdout",
     "output_type": "stream",
     "text": [
      "can eat grains in  10000000.0\n"
     ]
    }
   ],
   "source": [
    "compute_how_many_days(1, 200000000000)"
   ]
  },
  {
   "cell_type": "code",
   "execution_count": null,
   "id": "e3f7c391",
   "metadata": {},
   "outputs": [],
   "source": []
  },
  {
   "cell_type": "code",
   "execution_count": null,
   "id": "98e66fab",
   "metadata": {},
   "outputs": [],
   "source": []
  },
  {
   "cell_type": "code",
   "execution_count": null,
   "id": "11058a71",
   "metadata": {},
   "outputs": [],
   "source": []
  }
 ],
 "metadata": {
  "kernelspec": {
   "display_name": "Python 3 (ipykernel)",
   "language": "python",
   "name": "python3"
  },
  "language_info": {
   "codemirror_mode": {
    "name": "ipython",
    "version": 3
   },
   "file_extension": ".py",
   "mimetype": "text/x-python",
   "name": "python",
   "nbconvert_exporter": "python",
   "pygments_lexer": "ipython3",
   "version": "3.11.5"
  }
 },
 "nbformat": 4,
 "nbformat_minor": 5
}
